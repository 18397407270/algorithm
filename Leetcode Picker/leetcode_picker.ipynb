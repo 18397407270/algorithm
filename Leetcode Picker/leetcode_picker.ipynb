{
 "cells": [
  {
   "cell_type": "code",
   "execution_count": 1,
   "metadata": {},
   "outputs": [
    {
     "name": "stdout",
     "output_type": "stream",
     "text": [
      "Used: ['361', '474', '297', '340', '698', '289', '489', '627', '405', '35', '666', '33', '356', '182', '671', '149', '425', '31', '184', '232', '449', '248', '471', '664']\n",
      "Now: 390\n"
     ]
    }
   ],
   "source": [
    "import os\n",
    "import random\n",
    "\n",
    "used = \"used.txt\"\n",
    "if not os.path.exists(used):\n",
    "    open(used, \"w+\").close()\n",
    "\n",
    "with open(used, \"r+\", encoding=\"utf8\") as f:\n",
    "    used_problems = f.readlines()\n",
    "    used_problems = [u.strip(\"\\n\") for u in used_problems]\n",
    "    print(\"Used:\", used_problems)\n",
    "\n",
    "    r = [i for i in range(1, 719)]\n",
    "    r = [i for i in r if str(i) not in used_problems]\n",
    "    random.shuffle(r)\n",
    "    now = None\n",
    "    if len(r) == 0:\n",
    "        print(\"All done!\")\n",
    "        exit(0)\n",
    "    elif len(r) == 1:\n",
    "        now = r[0]\n",
    "    else:\n",
    "        now = random.choice(r)\n",
    "    print(\"Now:\", now)\n",
    "    f.write(str(now) + \"\\n\")"
   ]
  },
  {
   "cell_type": "markdown",
   "metadata": {},
   "source": [
    "## Elimination Game\n",
    "**Date**: 2018-3-27\n",
    "\n",
    "**Task**: [390](https://leetcode.com/problems/elimination-game/description/)\n",
    "\n",
    "**Detail**:\n",
    "\n",
    "　There is a list of sorted integers from 1 to *n*. Starting from left to right, remove the first number and every other number afterward until you reach the end of the list.\n",
    "\n",
    "　Repeat the previous step again, but this time from right to left, remove the right most number and every other number from the remaining numbers.\n",
    "\n",
    "　We keep repeating the steps again, alternating left to right and right to left, until a single number remains.\n",
    "\n",
    "　Find the last number that remains starting with a list of length *n*.\n",
    "\n",
    "**Example:**\n",
    "\n",
    "```bash\n",
    "Input:\n",
    "  n = 9,\n",
    "  1 2 3 4 5 6 7 8 9\n",
    "  2 4 6 8\n",
    "  2 6\n",
    "  6\n",
    "\n",
    "Output:\n",
    "  6\n",
    "```"
   ]
  }
 ],
 "metadata": {
  "kernelspec": {
   "display_name": "Python 3",
   "language": "python",
   "name": "python3"
  },
  "language_info": {
   "codemirror_mode": {
    "name": "ipython",
    "version": 3
   },
   "file_extension": ".py",
   "mimetype": "text/x-python",
   "name": "python",
   "nbconvert_exporter": "python",
   "pygments_lexer": "ipython3",
   "version": "3.5.3"
  }
 },
 "nbformat": 4,
 "nbformat_minor": 2
}
