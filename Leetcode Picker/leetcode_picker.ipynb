{
 "cells": [
  {
   "cell_type": "code",
   "execution_count": 1,
   "metadata": {},
   "outputs": [
    {
     "name": "stdout",
     "output_type": "stream",
     "text": [
      "Used: ['361', '474', '297', '340', '698', '289', '489', '627', '405', '35', '666', '33', '356', '182', '671', '149', '425', '31']\n",
      "Now: 451\n"
     ]
    }
   ],
   "source": [
    "import os\n",
    "import random\n",
    "\n",
    "used = \"used.txt\"\n",
    "if not os.path.exists(used):\n",
    "    open(used, \"w+\").close()\n",
    "\n",
    "with open(used, \"r+\", encoding=\"utf8\") as f:\n",
    "    used_problems = f.readlines()\n",
    "    used_problems = [u.strip(\"\\n\") for u in used_problems]\n",
    "    print(\"Used:\", used_problems)\n",
    "\n",
    "    r = [i for i in range(1, 719)]\n",
    "    r = [i for i in r if str(i) not in used_problems]\n",
    "    random.shuffle(r)\n",
    "    now = None\n",
    "    if len(r) == 0:\n",
    "        print(\"All done!\")\n",
    "        exit(0)\n",
    "    elif len(r) == 1:\n",
    "        now = r[0]\n",
    "    else:\n",
    "        now = random.choice(r)\n",
    "    print(\"Now:\", now)\n",
    "    f.write(str(now) + \"\\n\")"
   ]
  },
  {
   "cell_type": "markdown",
   "metadata": {},
   "source": [
    "## Sort Characters By Frequency\n",
    "**Date**: 2018-2-7\n",
    "\n",
    "**Task**: [451](https://leetcode.com/problems/sort-characters-by-frequency/description/)\n",
    "\n",
    "**Detail**:\n",
    "\n",
    " 　Given a string, sort it in decreasing order based on the frequency of characters.\n",
    "\n",
    "**Example 1:**\n",
    "\n",
    "```bash\n",
    "Input:\n",
    "\"tree\"\n",
    "\n",
    "Output:\n",
    "\"eert\"\n",
    "\n",
    "Explanation:\n",
    "'e' appears twice while 'r' and 't' both appear once.\n",
    "So 'e' must appear before both 'r' and 't'. Therefore \"eetr\" is also a valid answer.\n",
    "```\n",
    "\n",
    "**Example 2:**\n",
    "\n",
    "```bash\n",
    "Input:\n",
    "\"cccaaa\"\n",
    "\n",
    "Output:\n",
    "\"cccaaa\"\n",
    "\n",
    "Explanation:\n",
    "Both 'c' and 'a' appear three times, so \"aaaccc\" is also a valid answer.\n",
    "Note that \"cacaca\" is incorrect, as the same characters must be together.\n",
    "```\n",
    "\n",
    "**Example 3:**\n",
    "\n",
    "```bash\n",
    "Input:\n",
    "\"Aabb\"\n",
    "\n",
    "Output:\n",
    "\"bbAa\"\n",
    "\n",
    "Explanation:\n",
    "\"bbaA\" is also a valid answer, but \"Aabb\" is incorrect.\n",
    "Note that 'A' and 'a' are treated as two different characters.\n",
    "```"
   ]
  }
 ],
 "metadata": {
  "kernelspec": {
   "display_name": "Python 3",
   "language": "python",
   "name": "python3"
  },
  "language_info": {
   "codemirror_mode": {
    "name": "ipython",
    "version": 3
   },
   "file_extension": ".py",
   "mimetype": "text/x-python",
   "name": "python",
   "nbconvert_exporter": "python",
   "pygments_lexer": "ipython3",
   "version": "3.5.3"
  }
 },
 "nbformat": 4,
 "nbformat_minor": 2
}
