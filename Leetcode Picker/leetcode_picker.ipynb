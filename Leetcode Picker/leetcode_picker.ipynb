{
 "cells": [
  {
   "cell_type": "code",
   "execution_count": 2,
   "metadata": {},
   "outputs": [
    {
     "name": "stdout",
     "output_type": "stream",
     "text": [
      "Used: ['361', '474', '297', '340', '698', '289', '489', '627', '405', '35', '666', '33', '356']\n",
      "Now: 182\n"
     ]
    }
   ],
   "source": [
    "import os\n",
    "import random\n",
    "\n",
    "used = \"used.txt\"\n",
    "if not os.path.exists(used):\n",
    "    open(used, \"w+\").close()\n",
    "\n",
    "with open(used, \"r+\", encoding=\"utf8\") as f:\n",
    "    used_problems = f.readlines()\n",
    "    used_problems = [u.strip(\"\\n\") for u in used_problems]\n",
    "    print(\"Used:\", used_problems)\n",
    "\n",
    "    r = [i for i in range(1, 719)]\n",
    "    r = [i for i in r if str(i) not in used_problems]\n",
    "    random.shuffle(r)\n",
    "    now = None\n",
    "    if len(r) == 0:\n",
    "        print(\"All done!\")\n",
    "        exit(0)\n",
    "    elif len(r) == 1:\n",
    "        now = r[0]\n",
    "    else:\n",
    "        now = random.choice(r)\n",
    "    print(\"Now:\", now)\n",
    "    f.write(str(now) + \"\\n\")"
   ]
  },
  {
   "cell_type": "markdown",
   "metadata": {},
   "source": [
    "## Duplicate Emails\n",
    "**Date**: 2018-1-3\n",
    "\n",
    "**Task**: 182\n",
    "\n",
    "**Detail**:\n",
    "\n",
    "SQL Schema\n",
    "\n",
    "```sql\n",
    "Create table If Not Exists Person (Id int, Email varchar(255))\n",
    "Truncate table Person\n",
    "insert into Person (Id, Email) values ('1', 'a@b.com')\n",
    "insert into Person (Id, Email) values ('2', 'c@d.com')\n",
    "insert into Person (Id, Email) values ('3', 'a@b.com')\n",
    "```\n",
    "\n",
    "Write a SQL query to find all duplicate emails in a table named `Person`.\n",
    "\n",
    "```bash\n",
    "+----+---------+\n",
    "| Id | Email   |\n",
    "+----+---------+\n",
    "| 1  | a@b.com |\n",
    "| 2  | c@d.com |\n",
    "| 3  | a@b.com |\n",
    "+----+---------+\n",
    "```\n",
    "\n",
    "For example, your query should return the following for the above table:\n",
    "\n",
    "```bash\n",
    "+---------+\n",
    "| Email   |\n",
    "+---------+\n",
    "| a@b.com |\n",
    "+---------+\n",
    "```\n",
    "\n",
    "**Note**: All emails are in lowercase."
   ]
  }
 ],
 "metadata": {
  "kernelspec": {
   "display_name": "Python 3",
   "language": "python",
   "name": "python3"
  },
  "language_info": {
   "codemirror_mode": {
    "name": "ipython",
    "version": 3
   },
   "file_extension": ".py",
   "mimetype": "text/x-python",
   "name": "python",
   "nbconvert_exporter": "python",
   "pygments_lexer": "ipython3",
   "version": "3.5.3"
  }
 },
 "nbformat": 4,
 "nbformat_minor": 2
}
