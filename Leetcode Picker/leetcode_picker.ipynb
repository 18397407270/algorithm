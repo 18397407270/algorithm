{
 "cells": [
  {
   "cell_type": "code",
   "execution_count": 1,
   "metadata": {},
   "outputs": [
    {
     "name": "stdout",
     "output_type": "stream",
     "text": [
      "Used: ['361', '474', '297', '340', '698', '289', '489', '627', '405', '35', '666', '33', '356', '182', '671', '149', '425', '31', '184', '232', '449', '248', '471', '664', '390', '465']\n",
      "Now: 600\n"
     ]
    }
   ],
   "source": [
    "import os\n",
    "import random\n",
    "\n",
    "used = \"used.txt\"\n",
    "if not os.path.exists(used):\n",
    "    open(used, \"w+\").close()\n",
    "\n",
    "with open(used, \"r+\", encoding=\"utf8\") as f:\n",
    "    used_problems = f.readlines()\n",
    "    used_problems = [u.strip(\"\\n\") for u in used_problems]\n",
    "    print(\"Used:\", used_problems)\n",
    "\n",
    "    r = [i for i in range(1, 719)]\n",
    "    r = [i for i in r if str(i) not in used_problems]\n",
    "    random.shuffle(r)\n",
    "    now = None\n",
    "    if len(r) == 0:\n",
    "        print(\"All done!\")\n",
    "        exit(0)\n",
    "    elif len(r) == 1:\n",
    "        now = r[0]\n",
    "    else:\n",
    "        now = random.choice(r)\n",
    "    print(\"Now:\", now)\n",
    "    f.write(str(now) + \"\\n\")"
   ]
  },
  {
   "cell_type": "markdown",
   "metadata": {},
   "source": [
    "## Non-negative Integers without Consecutive Ones\n",
    "**Date**: 2018-4-3\n",
    "\n",
    "**Task**: [600](https://leetcode.com/problems/non-negative-integers-without-consecutive-ones/description/)\n",
    "\n",
    "**Detail**:\n",
    "\n",
    "　Given a positive integer n, find the number of **non-negative** integers less than or equal to n, whose binary representations do NOT contain **consecutive ones**.\n",
    "\n",
    "**Example 1:**\n",
    "\n",
    "```bash\n",
    "Input: 5\n",
    "Output: 5\n",
    "Explanation: \n",
    "Here are the non-negative integers <= 5 with their corresponding binary representations:\n",
    "0 : 0\n",
    "1 : 1\n",
    "2 : 10\n",
    "3 : 11\n",
    "4 : 100\n",
    "5 : 101\n",
    "Among them, only integer 3 disobeys the rule (two consecutive ones) and the other 5 satisfy the rule. \n",
    "```\n",
    "\n",
    "**Note:** $1 \\lt= n \\lt= 10^9$\n",
    "```"
   ]
  }
 ],
 "metadata": {
  "kernelspec": {
   "display_name": "Python 3",
   "language": "python",
   "name": "python3"
  },
  "language_info": {
   "codemirror_mode": {
    "name": "ipython",
    "version": 3
   },
   "file_extension": ".py",
   "mimetype": "text/x-python",
   "name": "python",
   "nbconvert_exporter": "python",
   "pygments_lexer": "ipython3",
   "version": "3.5.3"
  }
 },
 "nbformat": 4,
 "nbformat_minor": 2
}
