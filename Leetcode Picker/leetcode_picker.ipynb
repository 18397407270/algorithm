{
 "cells": [
  {
   "cell_type": "code",
   "execution_count": 1,
   "metadata": {},
   "outputs": [
    {
     "name": "stdout",
     "output_type": "stream",
     "text": [
      "Used: ['361', '474', '297', '340', '698', '289', '489', '627', '405', '35', '666', '33', '356', '182', '671', '149', '425', '31', '184', '232', '449', '248', '471', '664', '390', '465', '600', '246']\n",
      "Now: 447\n"
     ]
    }
   ],
   "source": [
    "import os\n",
    "import random\n",
    "\n",
    "used = \"used.txt\"\n",
    "if not os.path.exists(used):\n",
    "    open(used, \"w+\").close()\n",
    "\n",
    "with open(used, \"r+\", encoding=\"utf8\") as f:\n",
    "    used_problems = f.readlines()\n",
    "    used_problems = [u.strip(\"\\n\") for u in used_problems]\n",
    "    print(\"Used:\", used_problems)\n",
    "\n",
    "    r = [i for i in range(1, 719)]\n",
    "    r = [i for i in r if str(i) not in used_problems]\n",
    "    random.shuffle(r)\n",
    "    now = None\n",
    "    if len(r) == 0:\n",
    "        print(\"All done!\")\n",
    "        exit(0)\n",
    "    elif len(r) == 1:\n",
    "        now = r[0]\n",
    "    else:\n",
    "        now = random.choice(r)\n",
    "    print(\"Now:\", now)\n",
    "    f.write(str(now) + \"\\n\")"
   ]
  },
  {
   "cell_type": "markdown",
   "metadata": {},
   "source": [
    "## Number of Boomerangs\n",
    "**Date**: 2018-4-24\n",
    "\n",
    "**Task**: [447](https://leetcode.com/problems/number-of-boomerangs/description/)\n",
    "\n",
    "**Detail**:\n",
    "\n",
    "　Given *n* points in the plane that are all pairwise distinct, a \"boomerang\" is a tuple of points `(i, j, k)` such that the distance between `i`and `j` equals the distance between `i` and `k` (**the order of the tuple matters**).\n",
    "\n",
    "　Find the number of boomerangs. You may assume that *n* will be at most **500** and coordinates of points are all in the range **[-10000, 10000]** (inclusive).\n",
    "\n",
    "**Example:**\n",
    "\n",
    "```bash\n",
    "Input:\n",
    "　[[0,0],[1,0],[2,0]]\n",
    "\n",
    "Output:\n",
    "　2\n",
    "\n",
    "Explanation:\n",
    "　The two boomerangs are [[1,0],[0,0],[2,0]] and [[1,0],[2,0],[0,0]]\n",
    "```"
   ]
  }
 ],
 "metadata": {
  "kernelspec": {
   "display_name": "Python 3",
   "language": "python",
   "name": "python3"
  },
  "language_info": {
   "codemirror_mode": {
    "name": "ipython",
    "version": 3
   },
   "file_extension": ".py",
   "mimetype": "text/x-python",
   "name": "python",
   "nbconvert_exporter": "python",
   "pygments_lexer": "ipython3",
   "version": "3.5.3"
  }
 },
 "nbformat": 4,
 "nbformat_minor": 2
}
