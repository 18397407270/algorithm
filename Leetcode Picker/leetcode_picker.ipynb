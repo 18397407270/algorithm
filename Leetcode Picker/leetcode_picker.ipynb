{
 "cells": [
  {
   "cell_type": "code",
   "execution_count": 17,
   "metadata": {},
   "outputs": [
    {
     "name": "stdout",
     "output_type": "stream",
     "text": [
      "Used: []\n",
      "Now: 361\n"
     ]
    }
   ],
   "source": [
    "import os\n",
    "import random\n",
    "\n",
    "used = \"used.txt\"\n",
    "if not os.path.exists(used):\n",
    "    open(used, \"w+\").close()\n",
    "with open(used, \"r+\", encoding=\"utf8\") as f:\n",
    "    useds = f.readlines()\n",
    "    print(\"Used:\", useds)\n",
    "\n",
    "    r = [ i for i in range(1, 719) ]\n",
    "    r = [ i for i in r if str(i) + \"\\n\" not in useds ]\n",
    "    random.shuffle(r)\n",
    "    now = None\n",
    "    if len(r) == 0:\n",
    "        print(\"All done!\")\n",
    "        exit(0)\n",
    "    elif len(r) == 1:\n",
    "        now = r[0]\n",
    "    else:\n",
    "        now = random.choice(r)\n",
    "    print(\"Now:\", now)\n",
    "    f.write(str(now) + \"\\n\")"
   ]
  },
  {
   "cell_type": "markdown",
   "metadata": {},
   "source": [
    "# History\n",
    "## Bomb Enemy\n",
    "**Date**: 2017-10-30\n",
    "\n",
    "**Task**: 361\n",
    "\n",
    "**Detail**:\n",
    "```bash\n",
    "Given a 2D grid, each cell is either a wall 'W', an enemy 'E' or empty '0' (the number zero), return the maximum enemies you can kill using one bomb.\n",
    " The bomb kills all the enemies in the same row and column from the planted point until it hits the wall since the wall is too strong to be destroyed.\n",
    " Note that you can only put the bomb at an empty cell.\n",
    " Example:\n",
    " For the given grid\n",
    "  0 E 0 0\n",
    "  E 0 W E\n",
    "  0 E 0 0\n",
    "return 3. (Placing a bomb at (1,1) kills 3 enemies)\n",
    "```"
   ]
  }
 ],
 "metadata": {
  "kernelspec": {
   "display_name": "Python 3",
   "language": "python",
   "name": "python3"
  },
  "language_info": {
   "codemirror_mode": {
    "name": "ipython",
    "version": 3
   },
   "file_extension": ".py",
   "mimetype": "text/x-python",
   "name": "python",
   "nbconvert_exporter": "python",
   "pygments_lexer": "ipython3",
   "version": "3.5.3"
  }
 },
 "nbformat": 4,
 "nbformat_minor": 2
}
