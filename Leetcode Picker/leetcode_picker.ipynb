{
 "cells": [
  {
   "cell_type": "code",
   "execution_count": 3,
   "metadata": {},
   "outputs": [
    {
     "name": "stdout",
     "output_type": "stream",
     "text": [
      "Used: ['361', '474', '297', '340', '698', '289', '489']\n",
      "Now: 627\n"
     ]
    }
   ],
   "source": [
    "import os\n",
    "import random\n",
    "\n",
    "used = \"used.txt\"\n",
    "if not os.path.exists(used):\n",
    "    open(used, \"w+\").close()\n",
    "\n",
    "with open(used, \"r+\", encoding=\"utf8\") as f:\n",
    "    used_problems = f.readlines()\n",
    "    used_problems = [u.strip(\"\\n\") for u in used_problems]\n",
    "    print(\"Used:\", used_problems)\n",
    "\n",
    "    r = [i for i in range(1, 719)]\n",
    "    r = [i for i in r if str(i) not in used_problems]\n",
    "    random.shuffle(r)\n",
    "    now = None\n",
    "    if len(r) == 0:\n",
    "        print(\"All done!\")\n",
    "        exit(0)\n",
    "    elif len(r) == 1:\n",
    "        now = r[0]\n",
    "    else:\n",
    "        now = random.choice(r)\n",
    "    print(\"Now:\", now)\n",
    "    f.write(str(now) + \"\\n\")"
   ]
  },
  {
   "cell_type": "markdown",
   "metadata": {},
   "source": [
    "## Swap Salary\n",
    "**Date**: 2017-12-4\n",
    "\n",
    "**Task**: 627\n",
    "\n",
    "**Detail**:\n",
    "\n",
    "SQL Schema\n",
    "\n",
    "```sql\n",
    "create table if not exists salary(id int, name varchar(100), sex char(1), salary int);\n",
    "Truncate table salary;\n",
    "insert into salary (id, name, sex, salary) values ('1', 'A', 'm', '2500');\n",
    "insert into salary (id, name, sex, salary) values ('2', 'B', 'f', '1500');\n",
    "insert into salary (id, name, sex, salary) values ('3', 'C', 'm', '5500');\n",
    "insert into salary (id, name, sex, salary) values ('4', 'D', 'f', '500');\n",
    "```\n",
    "Given a table `salary`, such as the one below, that has m=male and f=female values. Swap all f and m values (i.e., change all f values to m and vice versa) with a single update query and no intermediate temp table.\n",
    "\n",
    "```bash\n",
    "| id | name | sex | salary |\n",
    "|----|------|-----|--------|\n",
    "| 1  | A    | m   | 2500   |\n",
    "| 2  | B    | f   | 1500   |\n",
    "| 3  | C    | m   | 5500   |\n",
    "| 4  | D    | f   | 500    |\n",
    "\n",
    "| id | name | sex | salary |\n",
    "|----|------|-----|--------|\n",
    "| 1  | A    | f   | 2500   |\n",
    "| 2  | B    | m   | 1500   |\n",
    "| 3  | C    | f   | 5500   |\n",
    "| 4  | D    | m   | 500    |\n",
    "```"
   ]
  }
 ],
 "metadata": {
  "kernelspec": {
   "display_name": "Python 3",
   "language": "python",
   "name": "python3"
  },
  "language_info": {
   "codemirror_mode": {
    "name": "ipython",
    "version": 3
   },
   "file_extension": ".py",
   "mimetype": "text/x-python",
   "name": "python",
   "nbconvert_exporter": "python",
   "pygments_lexer": "ipython3",
   "version": "3.5.3"
  }
 },
 "nbformat": 4,
 "nbformat_minor": 2
}
