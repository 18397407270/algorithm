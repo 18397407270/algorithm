{
 "cells": [
  {
   "cell_type": "code",
   "execution_count": 1,
   "metadata": {},
   "outputs": [
    {
     "name": "stdout",
     "output_type": "stream",
     "text": [
      "Used: ['361\\n']\n",
      "Now: 474\n"
     ]
    }
   ],
   "source": [
    "import os\n",
    "import random\n",
    "\n",
    "used = \"used.txt\"\n",
    "if not os.path.exists(used):\n",
    "    open(used, \"w+\").close()\n",
    "with open(used, \"r+\", encoding=\"utf8\") as f:\n",
    "    useds = f.readlines()\n",
    "    print(\"Used:\", useds)\n",
    "\n",
    "    r = [ i for i in range(1, 719) ]\n",
    "    r = [ i for i in r if str(i) + \"\\n\" not in useds ]\n",
    "    random.shuffle(r)\n",
    "    now = None\n",
    "    if len(r) == 0:\n",
    "        print(\"All done!\")\n",
    "        exit(0)\n",
    "    elif len(r) == 1:\n",
    "        now = r[0]\n",
    "    else:\n",
    "        now = random.choice(r)\n",
    "    print(\"Now:\", now)\n",
    "    f.write(str(now) + \"\\n\")"
   ]
  },
  {
   "cell_type": "markdown",
   "metadata": {},
   "source": [
    "# History\n",
    "## Bomb Enemy\n",
    "**Date**: 2017-10-30\n",
    "\n",
    "**Task**: 361\n",
    "\n",
    "**Detail**:\n",
    "```bash\n",
    "Given a 2D grid, each cell is either a wall 'W', an enemy 'E' or empty '0' (the number zero), return the maximum enemies you can kill using one bomb.\n",
    " The bomb kills all the enemies in the same row and column from the planted point until it hits the wall since the wall is too strong to be destroyed.\n",
    " Note that you can only put the bomb at an empty cell.\n",
    " Example:\n",
    " For the given grid\n",
    "  0 E 0 0\n",
    "  E 0 W E\n",
    "  0 E 0 0\n",
    "return 3. (Placing a bomb at (1,1) kills 3 enemies)\n",
    "```"
   ]
  },
  {
   "cell_type": "code",
   "execution_count": 2,
   "metadata": {},
   "outputs": [
    {
     "name": "stdout",
     "output_type": "stream",
     "text": [
      "[['0', 'E', '0', '0'], ['E', '0', 'W', 'E'], ['0', 'E', '0', '0']]\n",
      "3 4\n",
      "[0, 0, 0, 0]\n",
      "0 ['0', 'E', '0', '0']\n",
      "0 0\n",
      "1 E\n",
      "2 0\n",
      "3 0\n",
      "1 ['E', '0', 'W', 'E']\n",
      "0 E\n",
      "1 0\n",
      "2 W\n",
      "3 E\n",
      "2 ['0', 'E', '0', '0']\n",
      "0 0\n",
      "1 E\n",
      "2 0\n",
      "3 0\n",
      "3\n",
      "[['0', 'W', 'E', 'W'], ['W', 'W', '0', 'W'], ['0', 'W', 'E', 'W']]\n",
      "3 4\n",
      "[0, 0, 0, 0]\n",
      "0 ['0', 'W', 'E', 'W']\n",
      "0 0\n",
      "1 W\n",
      "2 E\n",
      "3 W\n",
      "1 ['W', 'W', '0', 'W']\n",
      "0 W\n",
      "1 W\n",
      "2 0\n",
      "3 W\n",
      "2 ['0', 'W', 'E', 'W']\n",
      "0 0\n",
      "1 W\n",
      "2 E\n",
      "3 W\n",
      "2\n"
     ]
    }
   ],
   "source": [
    "def bomb_enemy(cells):\n",
    "    print(cells)\n",
    "    row_len, col_len = len(cells), len(cells[0])\n",
    "    print(row_len, col_len)\n",
    "    result = 0\n",
    "    col_hits = [0] * col_len\n",
    "    row_hits = 0\n",
    "    print(col_hits)\n",
    "    for index_row, row in enumerate(cells):\n",
    "        print(index_row, row)\n",
    "        for index_cell, cell in enumerate(row):\n",
    "            print(index_cell, cell)\n",
    "            if index_cell == 0 or row[index_cell - 1] == 'W':\n",
    "                row_hits = 0\n",
    "                k = index_cell\n",
    "                while k < col_len:\n",
    "                    if row[k] == 'W':\n",
    "                        break\n",
    "                    row_hits += row[k] == 'E'\n",
    "                    k += 1\n",
    "            if index_row == 0 or cells[index_row - 1][index_cell] == 'W':\n",
    "                col_hits[index_cell] = 0\n",
    "                k = index_row\n",
    "                while k < row_len:\n",
    "                    if cells[k][index_cell] == 'W':\n",
    "                        break\n",
    "                    col_hits[index_cell] += cells[k][index_cell] == 'E'\n",
    "                    k += 1\n",
    "            if cell == '0':\n",
    "                result = max(result, row_hits + col_hits[index_cell])\n",
    "    return result\n",
    "\n",
    "\n",
    "print(bomb_enemy([['0', 'E', '0', '0'],\n",
    "                  ['E', '0', 'W', 'E'],\n",
    "                  ['0', 'E', '0', '0']]))\n",
    "\n",
    "print(bomb_enemy([['0', 'W', 'E', 'W'],\n",
    "                  ['W', 'W', '0', 'W'],\n",
    "                  ['0', 'W', 'E', 'W']]))\n"
   ]
  },
  {
   "cell_type": "code",
   "execution_count": null,
   "metadata": {
    "collapsed": true
   },
   "outputs": [],
   "source": []
  },
  {
   "cell_type": "code",
   "execution_count": null,
   "metadata": {
    "collapsed": true
   },
   "outputs": [],
   "source": []
  }
 ],
 "metadata": {
  "kernelspec": {
   "display_name": "Python 3",
   "language": "python",
   "name": "python3"
  },
  "language_info": {
   "codemirror_mode": {
    "name": "ipython",
    "version": 3
   },
   "file_extension": ".py",
   "mimetype": "text/x-python",
   "name": "python",
   "nbconvert_exporter": "python",
   "pygments_lexer": "ipython3",
   "version": "3.5.3"
  }
 },
 "nbformat": 4,
 "nbformat_minor": 2
}
