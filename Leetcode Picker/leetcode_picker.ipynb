{
 "cells": [
  {
   "cell_type": "code",
   "execution_count": 1,
   "metadata": {},
   "outputs": [
    {
     "name": "stdout",
     "output_type": "stream",
     "text": [
      "Used: ['361', '474', '297', '340', '698', '289', '489', '627', '405', '35', '666', '33', '356', '182', '671', '149', '425', '31']\n",
      "Now: 184\n"
     ]
    }
   ],
   "source": [
    "import os\n",
    "import random\n",
    "\n",
    "used = \"used.txt\"\n",
    "if not os.path.exists(used):\n",
    "    open(used, \"w+\").close()\n",
    "\n",
    "with open(used, \"r+\", encoding=\"utf8\") as f:\n",
    "    used_problems = f.readlines()\n",
    "    used_problems = [u.strip(\"\\n\") for u in used_problems]\n",
    "    print(\"Used:\", used_problems)\n",
    "\n",
    "    r = [i for i in range(1, 719)]\n",
    "    r = [i for i in r if str(i) not in used_problems]\n",
    "    random.shuffle(r)\n",
    "    now = None\n",
    "    if len(r) == 0:\n",
    "        print(\"All done!\")\n",
    "        exit(0)\n",
    "    elif len(r) == 1:\n",
    "        now = r[0]\n",
    "    else:\n",
    "        now = random.choice(r)\n",
    "    print(\"Now:\", now)\n",
    "    f.write(str(now) + \"\\n\")"
   ]
  },
  {
   "cell_type": "markdown",
   "metadata": {},
   "source": [
    "## Department Highest Salary\n",
    "**Date**: 2018-2-11\n",
    "\n",
    "**Task**: [184](https://leetcode.com/problems/department-highest-salary/description/)\n",
    "\n",
    "**Detail**:\n",
    "\n",
    "　**SQL Schema**\n",
    "\n",
    "```sql\n",
    "Create table If Not Exists Employee (Id int, Name varchar(255), Salary int, DepartmentId int)\n",
    "Create table If Not Exists Department (Id int, Name varchar(255))\n",
    "Truncate table Employee\n",
    "insert into Employee (Id, Name, Salary, DepartmentId) values ('1', 'Joe', '70000', '1')\n",
    "insert into Employee (Id, Name, Salary, DepartmentId) values ('2', 'Henry', '80000', '2')\n",
    "insert into Employee (Id, Name, Salary, DepartmentId) values ('3', 'Sam', '60000', '2')\n",
    "insert into Employee (Id, Name, Salary, DepartmentId) values ('4', 'Max', '90000', '1')\n",
    "Truncate table Department\n",
    "insert into Department (Id, Name) values ('1', 'IT')\n",
    "insert into Department (Id, Name) values ('2', 'Sales')\n",
    "```\n",
    "\n",
    "\n",
    "　The `Employee` table holds all employees. Every employee has an Id, a salary, and there is also a column for the department Id.\n",
    "\n",
    "```sql\n",
    "+----+-------+--------+--------------+\n",
    "| Id | Name  | Salary | DepartmentId |\n",
    "+----+-------+--------+--------------+\n",
    "| 1  | Joe   | 70000  | 1            |\n",
    "| 2  | Henry | 80000  | 2            |\n",
    "| 3  | Sam   | 60000  | 2            |\n",
    "| 4  | Max   | 90000  | 1            |\n",
    "+----+-------+--------+--------------+\n",
    "```\n",
    "\n",
    "　The `Department` table holds all departments of the company.\n",
    "\n",
    "```sql\n",
    "+----+----------+\n",
    "| Id | Name     |\n",
    "+----+----------+\n",
    "| 1  | IT       |\n",
    "| 2  | Sales    |\n",
    "+----+----------+\n",
    "```\n",
    "\n",
    "　Write a SQL query to find employees who have the highest salary in each of the departments. For the above tables, Max has the highest salary in the IT department and Henry has the highest salary in the Sales department.\n",
    "\n",
    "```sql\n",
    "+------------+----------+--------+\n",
    "| Department | Employee | Salary |\n",
    "+------------+----------+--------+\n",
    "| IT         | Max      | 90000  |\n",
    "| Sales      | Henry    | 80000  |\n",
    "+------------+----------+--------+\n",
    "```"
   ]
  }
 ],
 "metadata": {
  "kernelspec": {
   "display_name": "Python 3",
   "language": "python",
   "name": "python3"
  },
  "language_info": {
   "codemirror_mode": {
    "name": "ipython",
    "version": 3
   },
   "file_extension": ".py",
   "mimetype": "text/x-python",
   "name": "python",
   "nbconvert_exporter": "python",
   "pygments_lexer": "ipython3",
   "version": "3.5.3"
  }
 },
 "nbformat": 4,
 "nbformat_minor": 2
}
