{
 "cells": [
  {
   "cell_type": "code",
   "execution_count": 1,
   "metadata": {},
   "outputs": [
    {
     "name": "stdout",
     "output_type": "stream",
     "text": [
      "Used: ['361', '474', '297', '340', '698', '289', '489', '627', '405', '35', '666', '33', '356', '182', '671', '149', '425', '31', '184', '232', '449', '248', '471']\n",
      "Now: 664\n"
     ]
    }
   ],
   "source": [
    "import os\n",
    "import random\n",
    "\n",
    "used = \"used.txt\"\n",
    "if not os.path.exists(used):\n",
    "    open(used, \"w+\").close()\n",
    "\n",
    "with open(used, \"r+\", encoding=\"utf8\") as f:\n",
    "    used_problems = f.readlines()\n",
    "    used_problems = [u.strip(\"\\n\") for u in used_problems]\n",
    "    print(\"Used:\", used_problems)\n",
    "\n",
    "    r = [i for i in range(1, 719)]\n",
    "    r = [i for i in r if str(i) not in used_problems]\n",
    "    random.shuffle(r)\n",
    "    now = None\n",
    "    if len(r) == 0:\n",
    "        print(\"All done!\")\n",
    "        exit(0)\n",
    "    elif len(r) == 1:\n",
    "        now = r[0]\n",
    "    else:\n",
    "        now = random.choice(r)\n",
    "    print(\"Now:\", now)\n",
    "    f.write(str(now) + \"\\n\")"
   ]
  },
  {
   "cell_type": "markdown",
   "metadata": {},
   "source": [
    "## Strange Printer\n",
    "**Date**: 2018-3-20\n",
    "\n",
    "**Task**: [664](https://leetcode.com/problems/strange-printer/description/)\n",
    "\n",
    "**Detail**:\n",
    "\n",
    "There is a strange printer with the following two special requirements:\n",
    "\n",
    "1. The printer can only print a sequence of the same character each time.\n",
    "2. At each turn, the printer can print new characters starting from and ending at any places, and will cover the original existing characters.\n",
    "\n",
    "Given a string consists of lower English letters only, your job is to count the minimum number of turns the printer needed in order to print it.\n",
    "\n",
    "**Example 1:**\n",
    "\n",
    "```bash\n",
    "Input: \"aaabbb\"\n",
    "Output: 2\n",
    "Explanation: Print \"aaa\" first and then print \"bbb\".\n",
    "```\n",
    "\n",
    "**Example 2:**\n",
    "\n",
    "```bash\n",
    "Input: \"aba\"\n",
    "Output: 2\n",
    "Explanation: Print \"aaa\" first and then print \"b\" from the second place of the string, which will cover the existing character 'a'.\n",
    "```\n",
    "\n",
    "**Hint**: Length of the given string will not exceed 100."
   ]
  }
 ],
 "metadata": {
  "kernelspec": {
   "display_name": "Python 3",
   "language": "python",
   "name": "python3"
  },
  "language_info": {
   "codemirror_mode": {
    "name": "ipython",
    "version": 3
   },
   "file_extension": ".py",
   "mimetype": "text/x-python",
   "name": "python",
   "nbconvert_exporter": "python",
   "pygments_lexer": "ipython3",
   "version": "3.5.3"
  }
 },
 "nbformat": 4,
 "nbformat_minor": 2
}
