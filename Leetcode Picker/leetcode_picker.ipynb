{
 "cells": [
  {
   "cell_type": "code",
   "execution_count": 1,
   "metadata": {},
   "outputs": [
    {
     "name": "stdout",
     "output_type": "stream",
     "text": [
      "Used: ['361', '474', '297', '340', '698', '289', '489', '627', '405', '35', '666', '33', '356', '182', '671', '149', '425', '31', '184', '232']\n",
      "Now: 449\n"
     ]
    }
   ],
   "source": [
    "import os\n",
    "import random\n",
    "\n",
    "used = \"used.txt\"\n",
    "if not os.path.exists(used):\n",
    "    open(used, \"w+\").close()\n",
    "\n",
    "with open(used, \"r+\", encoding=\"utf8\") as f:\n",
    "    used_problems = f.readlines()\n",
    "    used_problems = [u.strip(\"\\n\") for u in used_problems]\n",
    "    print(\"Used:\", used_problems)\n",
    "\n",
    "    r = [i for i in range(1, 719)]\n",
    "    r = [i for i in r if str(i) not in used_problems]\n",
    "    random.shuffle(r)\n",
    "    now = None\n",
    "    if len(r) == 0:\n",
    "        print(\"All done!\")\n",
    "        exit(0)\n",
    "    elif len(r) == 1:\n",
    "        now = r[0]\n",
    "    else:\n",
    "        now = random.choice(r)\n",
    "    print(\"Now:\", now)\n",
    "    f.write(str(now) + \"\\n\")"
   ]
  },
  {
   "cell_type": "markdown",
   "metadata": {},
   "source": [
    "## Serialize and Deserialize BST\n",
    "**Date**: 2018-3-5\n",
    "\n",
    "**Task**: [449](https://leetcode.com/problems/serialize-and-deserialize-bst/description/)\n",
    "\n",
    "**Detail**:\n",
    "\n",
    "　Serialization is the process of converting a data structure or object into a sequence of bits so that it can be stored in a file or memory buffer, or transmitted across a network connection link to be reconstructed later in the same or another computer environment.\n",
    "\n",
    "　Design an algorithm to serialize and deserialize a **binary search tree**. There is no restriction on how your serialization/deserialization algorithm should work. You just need to ensure that a binary search tree can be serialized to a string and this string can be deserialized to the original tree structure.\n",
    "\n",
    "　**The encoded string should be as compact as possible.**\n",
    "\n",
    "　**Note:** Do not use class member/global/static variables to store states. Your serialize and deserialize algorithms should be stateless."
   ]
  }
 ],
 "metadata": {
  "kernelspec": {
   "display_name": "Python 3",
   "language": "python",
   "name": "python3"
  },
  "language_info": {
   "codemirror_mode": {
    "name": "ipython",
    "version": 3
   },
   "file_extension": ".py",
   "mimetype": "text/x-python",
   "name": "python",
   "nbconvert_exporter": "python",
   "pygments_lexer": "ipython3",
   "version": "3.5.3"
  }
 },
 "nbformat": 4,
 "nbformat_minor": 2
}
