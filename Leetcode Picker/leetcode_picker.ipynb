{
 "cells": [
  {
   "cell_type": "code",
   "execution_count": 1,
   "metadata": {},
   "outputs": [
    {
     "name": "stdout",
     "output_type": "stream",
     "text": [
      "Used: ['361', '474', '297', '340', '698', '289', '489', '627', '405', '35', '666', '33', '356', '182']\n",
      "Now: 671\n"
     ]
    }
   ],
   "source": [
    "import os\n",
    "import random\n",
    "\n",
    "used = \"used.txt\"\n",
    "if not os.path.exists(used):\n",
    "    open(used, \"w+\").close()\n",
    "\n",
    "with open(used, \"r+\", encoding=\"utf8\") as f:\n",
    "    used_problems = f.readlines()\n",
    "    used_problems = [u.strip(\"\\n\") for u in used_problems]\n",
    "    print(\"Used:\", used_problems)\n",
    "\n",
    "    r = [i for i in range(1, 719)]\n",
    "    r = [i for i in r if str(i) not in used_problems]\n",
    "    random.shuffle(r)\n",
    "    now = None\n",
    "    if len(r) == 0:\n",
    "        print(\"All done!\")\n",
    "        exit(0)\n",
    "    elif len(r) == 1:\n",
    "        now = r[0]\n",
    "    else:\n",
    "        now = random.choice(r)\n",
    "    print(\"Now:\", now)\n",
    "    f.write(str(now) + \"\\n\")"
   ]
  },
  {
   "cell_type": "markdown",
   "metadata": {},
   "source": [
    "## Second Minimum Node In a Binary Tree\n",
    "**Date**: 2018-1-10\n",
    "\n",
    "**Task**: 671\n",
    "\n",
    "**Detail**:\n",
    "\n",
    "　Given a non-empty special binary tree consisting of nodes with the non-negative value, where each node in this tree has exactly `two` or `zero` sub-node. If the node has two sub-nodes, then this node's value is the smaller value among its two sub-nodes.\n",
    "\n",
    "　Given such a binary tree, you need to output the **second minimum** value in the set made of all the nodes' value in the whole tree.\n",
    "\n",
    "　If no such second minimum value exists, output -1 instead.\n",
    "\n",
    "**Example 1:**\n",
    "\n",
    "```bash\n",
    "Input: \n",
    "    2\n",
    "   / \\\n",
    "  2   5\n",
    "     / \\\n",
    "    5   7\n",
    "\n",
    "Output: 5\n",
    "Explanation: The smallest value is 2, the second smallest value is 5.\n",
    "```\n",
    "\n",
    "**Example 2:**\n",
    "\n",
    "```bash\n",
    "Input: \n",
    "    2\n",
    "   / \\\n",
    "  2   2\n",
    "\n",
    "Output: -1\n",
    "Explanation: The smallest value is 2, but there isn't any second smallest value.\n",
    "```"
   ]
  }
 ],
 "metadata": {
  "kernelspec": {
   "display_name": "Python 3",
   "language": "python",
   "name": "python3"
  },
  "language_info": {
   "codemirror_mode": {
    "name": "ipython",
    "version": 3
   },
   "file_extension": ".py",
   "mimetype": "text/x-python",
   "name": "python",
   "nbconvert_exporter": "python",
   "pygments_lexer": "ipython3",
   "version": "3.5.3"
  }
 },
 "nbformat": 4,
 "nbformat_minor": 2
}
